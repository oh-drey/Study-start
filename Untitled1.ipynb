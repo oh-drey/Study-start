{
 "cells": [
  {
   "cell_type": "markdown",
   "id": "d1d6d635-aaae-4c28-b634-9c36f6673787",
   "metadata": {},
   "source": [
    "### Study omscs ###"
   ]
  },
  {
   "cell_type": "code",
   "execution_count": 16,
   "id": "c0577f03-7168-47d1-8199-9ae1ec1b4945",
   "metadata": {},
   "outputs": [],
   "source": [
    "x = [\"grapes\", \"mango\", \"orange\", \"peach\", \"apple\", \"lime\", \"banana\", \"cherry\", \"tomato\", \"kiwi\", \"blueberry\", \"watermelon\"]\n",
    "\n",
    "\n",
    "# Can you printout uppercase in X ? \n",
    "# Answer [\"Apple, Kiwi\"]"
   ]
  },
  {
   "cell_type": "code",
   "execution_count": null,
   "id": "4ed857f9-788c-478b-a9d0-c6faff3ea146",
   "metadata": {},
   "outputs": [],
   "source": []
  },
  {
   "cell_type": "code",
   "execution_count": null,
   "id": "aba8da6b-cf02-481e-abc4-cdc582aed6d7",
   "metadata": {},
   "outputs": [],
   "source": []
  },
  {
   "cell_type": "code",
   "execution_count": null,
   "id": "0fc31a53-cbc5-471f-9ea1-eff5562ee993",
   "metadata": {},
   "outputs": [],
   "source": []
  },
  {
   "cell_type": "code",
   "execution_count": null,
   "id": "ff5747b8-295a-4149-8297-63b75c46ff2a",
   "metadata": {},
   "outputs": [],
   "source": []
  },
  {
   "cell_type": "code",
   "execution_count": null,
   "id": "efe2d163-8c2e-4713-9ac3-af7c9b05757b",
   "metadata": {},
   "outputs": [],
   "source": []
  },
  {
   "cell_type": "code",
   "execution_count": null,
   "id": "4170cb5f-3504-4d45-8c54-432fef46faec",
   "metadata": {},
   "outputs": [],
   "source": []
  },
  {
   "cell_type": "code",
   "execution_count": null,
   "id": "5ee9bbab-790a-407a-9e6d-d88027351cf8",
   "metadata": {},
   "outputs": [],
   "source": []
  }
 ],
 "metadata": {
  "kernelspec": {
   "display_name": "Python [conda env:base] *",
   "language": "python",
   "name": "conda-base-py"
  },
  "language_info": {
   "codemirror_mode": {
    "name": "ipython",
    "version": 3
   },
   "file_extension": ".py",
   "mimetype": "text/x-python",
   "name": "python",
   "nbconvert_exporter": "python",
   "pygments_lexer": "ipython3",
   "version": "3.12.7"
  }
 },
 "nbformat": 4,
 "nbformat_minor": 5
}
