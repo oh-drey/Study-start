{
 "cells": [
  {
   "cell_type": "markdown",
   "id": "784d860f-7380-4203-9bd9-210f4b70ab89",
   "metadata": {},
   "source": [
    "# 네임 규칙"
   ]
  },
  {
   "cell_type": "markdown",
   "id": "93809b79-734d-4c16-977b-c1fc733b5842",
   "metadata": {},
   "source": [
    "시작합니다"
   ]
  },
  {
   "cell_type": "code",
   "execution_count": 16,
   "id": "9d716dc8-1416-4abb-90fc-e0f37c72c8b9",
   "metadata": {},
   "outputs": [
    {
     "name": "stdout",
     "output_type": "stream",
     "text": [
      "결과 1 15\n",
      "결과 2 3.14\n",
      "결과 3 77\n",
      "결과 4 3.14\n"
     ]
    }
   ],
   "source": [
    "a = 15\n",
    "b = 3.14\n",
    "c = int(77)\n",
    "d = float(3.14)\n",
    "\n",
    "\n",
    "print(\"결과 1\",a)\n",
    "print(\"결과 2\",b)\n",
    "print(\"결과 3\",c)\n",
    "print(\"결과 4\",d)\n"
   ]
  },
  {
   "cell_type": "markdown",
   "id": "321d5017-45d0-4f3c-b018-a504b3b299f3",
   "metadata": {},
   "source": [
    "### Assigning & comparison"
   ]
  },
  {
   "cell_type": "code",
   "execution_count": 31,
   "id": "96b435ca-eeba-40db-8dd1-6eb92ca288f0",
   "metadata": {},
   "outputs": [
    {
     "name": "stdout",
     "output_type": "stream",
     "text": [
      "x == y : False\n",
      "x is y : False\n",
      "x Value : ,id :15, 0xf\n",
      "y Value :, id :25, 0x19\n"
     ]
    }
   ],
   "source": [
    "x = 15\n",
    "y = 25\n",
    "\n",
    "print(f'x == y : {x == y}')\n",
    "print(f'x is y : {x is y}')\n",
    "\n",
    "print(f'x Value : ,id :{x}, {hex(x)}')\n",
    "print(f'y Value :, id :{y}, {hex(y)}') "
   ]
  },
  {
   "cell_type": "code",
   "execution_count": 43,
   "id": "b67ac500-0415-4bb8-9b6b-b50a079b5468",
   "metadata": {},
   "outputs": [
    {
     "name": "stdout",
     "output_type": "stream",
     "text": [
      "x == y : True\n",
      "x is y : False\n",
      "x Value :, id : ['orange', 'banana', 'apple'], 0x1e4b0c763c0\n",
      "y Value :, id : ['orange', 'banana', 'apple'], 0x1e4b0c77400\n"
     ]
    }
   ],
   "source": [
    "x = ['orange', 'banana', 'apple']\n",
    "y = ['orange', 'banana', 'apple']\n",
    "\n",
    "print(f'x == y : {x == y}')\n",
    "print(f'x is y : {x is y}')\n",
    "\n",
    "\n",
    "print(f'x Value :, id : {x}, {hex(id(x))}')\n",
    "print(f'y Value :, id : {y}, {hex(id(y))}')\n",
    "\n"
   ]
  },
  {
   "cell_type": "markdown",
   "id": "9b142cfb-97d3-4dd9-930b-e916b256386c",
   "metadata": {},
   "source": [
    "## TypeError Handling"
   ]
  },
  {
   "cell_type": "code",
   "execution_count": 50,
   "id": "688955fb-d7ff-43b1-8e0e-57cc87d25606",
   "metadata": {},
   "outputs": [
    {
     "name": "stdout",
     "output_type": "stream",
     "text": [
      "z, Seoul25\n"
     ]
    }
   ],
   "source": [
    "x = \"Seoul\"\n",
    "y = 25\n",
    "z = x + str(y)\n",
    "\n",
    "print(f'z, {z}')"
   ]
  },
  {
   "cell_type": "markdown",
   "id": "17697039-9a7b-4289-a163-2ce242f83cb0",
   "metadata": {},
   "source": [
    "### Sequence Type Indexing\n"
   ]
  },
  {
   "cell_type": "code",
   "execution_count": 92,
   "id": "35644d64-bf42-4178-af48-2c7dbe7d8574",
   "metadata": {},
   "outputs": [
    {
     "name": "stdout",
     "output_type": "stream",
     "text": [
      "['Orange', 'Cherry', 'Apple', 'Kiwi', 'Banana', 'Strawberry']\n",
      "['Orange', 'Cherry', 'Apple', 'Kiwi', 'Banana', 'Strawberry']\n",
      "x == y : True\n",
      "결과 : Banana\n",
      "결과 : Banana\n",
      "결과 : Banana\n"
     ]
    }
   ],
   "source": [
    "x = ['Orange', 'Cherry', 'Apple', 'Kiwi', 'Banana', 'Strawberry']\n",
    "y = [\"Orange\", \"Cherry\", \"Apple\", \"Kiwi\", \"Banana\", \"Strawberry\"]\n",
    "\n",
    "# banana 출력\n",
    "\n",
    "print(x)\n",
    "print(y)\n",
    "\n",
    "print(f'x == y : {x == y}')\n",
    "\n",
    "print(f'결과 : {x[4]}')\n",
    "print('결과 :', x[x.index('Banana')])\n",
    "print('결과 :', x[x.index('Banana', 0, len(x))])\n"
   ]
  },
  {
   "cell_type": "markdown",
   "id": "956ee30f-a102-439f-8af4-bf7659253e49",
   "metadata": {},
   "source": [
    " ### Sequence Type Slicing\n"
   ]
  },
  {
   "cell_type": "code",
   "execution_count": 127,
   "id": "10d2b3b3-605f-40ad-889f-fa9c99e2a64b",
   "metadata": {},
   "outputs": [
    {
     "name": "stdout",
     "output_type": "stream",
     "text": [
      "결과 : ['e', 'f', 'g']\n",
      "결과 : ['e', 'f', 'g']\n",
      "결과 : ['e', 'f', 'g']\n",
      "결과 : ['e', 'f', 'g']\n",
      "결과 : ['e', 'f', 'g']\n",
      "결과 : ['g', 'f', 'e']\n"
     ]
    }
   ],
   "source": [
    "x = [\"a\", \"b\", \"c\", \"d\", \"e\", \"f\", \"g\", \"h\", \"i\", \"j\", \"k\", \"l\", \"m\"]\n",
    "\n",
    "#출력 결과 : [e,f,g]\n",
    "\n",
    "print(f'결과 : {x[4:7]}')\n",
    "print(f'결과 : {x[-9:-6]}')\n",
    "print(f'결과 : {x[-9: 7]}')\n",
    "print(f'결과 : {x[4:-6]}')\n",
    "print(f'결과 : {x[4:-6:1]}')\n",
    "print(f'결과 : {list(reversed((x[4:-6:1])))}')\n"
   ]
  },
  {
   "cell_type": "code",
   "execution_count": null,
   "id": "c6d53efe-ba2d-4b6d-b0cc-505bbb1cbcf8",
   "metadata": {},
   "outputs": [],
   "source": []
  },
  {
   "cell_type": "code",
   "execution_count": null,
   "id": "12c732dd-3be0-4e00-9f77-132c0b8fa004",
   "metadata": {},
   "outputs": [],
   "source": []
  },
  {
   "cell_type": "code",
   "execution_count": null,
   "id": "f1c5fc02-a0a6-4b62-852b-31837e02ef32",
   "metadata": {},
   "outputs": [],
   "source": []
  },
  {
   "cell_type": "code",
   "execution_count": null,
   "id": "e5804542-bd8e-4900-9d9f-0769ee21d8a8",
   "metadata": {},
   "outputs": [],
   "source": []
  },
  {
   "cell_type": "code",
   "execution_count": null,
   "id": "38cc655b-41d0-491c-817f-d13046b71574",
   "metadata": {},
   "outputs": [],
   "source": []
  },
  {
   "cell_type": "code",
   "execution_count": null,
   "id": "bf121fb5-3e03-48ee-8b3d-fd02ffe34284",
   "metadata": {},
   "outputs": [],
   "source": []
  }
 ],
 "metadata": {
  "kernelspec": {
   "display_name": "Python [conda env:base] *",
   "language": "python",
   "name": "conda-base-py"
  },
  "language_info": {
   "codemirror_mode": {
    "name": "ipython",
    "version": 3
   },
   "file_extension": ".py",
   "mimetype": "text/x-python",
   "name": "python",
   "nbconvert_exporter": "python",
   "pygments_lexer": "ipython3",
   "version": "3.12.7"
  }
 },
 "nbformat": 4,
 "nbformat_minor": 5
}
