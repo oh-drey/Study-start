{
 "cells": [
  {
   "cell_type": "code",
   "execution_count": 3,
   "id": "ad996676-0acf-4704-81e8-c62ea7c5700a",
   "metadata": {},
   "outputs": [
    {
     "name": "stdout",
     "output_type": "stream",
     "text": [
      "hellow word\n"
     ]
    }
   ],
   "source": [
    "print(\"hellow word\")"
   ]
  },
  {
   "cell_type": "code",
   "execution_count": null,
   "id": "8fad5f0a-c1f7-4f10-99c9-3bcc3ceabf1b",
   "metadata": {},
   "outputs": [],
   "source": []
  }
 ],
 "metadata": {
  "kernelspec": {
   "display_name": "Python [conda env:base] *",
   "language": "python",
   "name": "conda-base-py"
  },
  "language_info": {
   "codemirror_mode": {
    "name": "ipython",
    "version": 3
   },
   "file_extension": ".py",
   "mimetype": "text/x-python",
   "name": "python",
   "nbconvert_exporter": "python",
   "pygments_lexer": "ipython3",
   "version": "3.12.7"
  }
 },
 "nbformat": 4,
 "nbformat_minor": 5
}
