{
 "cells": [
  {
   "cell_type": "markdown",
   "id": "57201ce5-4bdf-416e-8ca2-4b8b6ca7aafd",
   "metadata": {},
   "source": [
    "### Study Omscs ###"
   ]
  },
  {
   "cell_type": "markdown",
   "id": "6ab69001-5bc7-4695-8693-ee8208fea918",
   "metadata": {},
   "source": [
    "# \n"
   ]
  },
  {
   "cell_type": "code",
   "execution_count": 33,
   "id": "eabc695f-130f-4cf3-9b8f-b6e4c99b8e56",
   "metadata": {},
   "outputs": [
    {
     "name": "stdout",
     "output_type": "stream",
     "text": [
      "['GRAPES', 'MANGO', 'ORANGE', 'PEACH', 'APPLE', 'LIME', 'BANANA', 'CHERRY', 'TOMATO', 'KIWI', 'BLUEBERRY', 'WATERMELON']\n",
      " 결과 : ['APPLE', 'KIWI']\n",
      " 결과 :['grapes', 'mango', 'orange', 'peach', 'apple', 'lime', 'banana', 'cherry', 'tomato', 'kiwi', 'blueberry', 'watermelon']\n"
     ]
    }
   ],
   "source": [
    "x = [\"grapes\", \"mango\", \"orange\", \"peach\", \"apple\", \"lime\", \"banana\", \"cherry\", \"tomato\", \"kiwi\", \"blueberry\", \"watermelon\"]\n",
    "\n",
    "# Can you printout uppercase lists in x?\n",
    "\n",
    "ex1 = []\n",
    "\n",
    "for i in range (len(x)):\n",
    "    if x[i] == 'apple' or x[i] =='kiwi':\n",
    "        ex1.append(x[i].upper())\n",
    "\n",
    "uppercase_list = [item.upper() for item in x]\n",
    "print(uppercase_list)\n",
    "\n",
    "print(f' 결과 : {ex1}')\n",
    "print(f' 결과 :{x}')\n",
    "\n"
   ]
  },
  {
   "cell_type": "code",
   "execution_count": 39,
   "id": "4e833224-ba7c-4c77-93af-d60c92489156",
   "metadata": {},
   "outputs": [
    {
     "name": "stdout",
     "output_type": "stream",
     "text": [
      "ex2 결과 : ['APPLE', 'KIWI']\n",
      "ex3 결과 : ['APPLE', 'KIWI']\n"
     ]
    }
   ],
   "source": [
    "# 방법2\n",
    "ex2 = list(map(lambda b: b.upper(), filter(lambda a: a == 'apple' or a == 'kiwi', x)))\n",
    "\n",
    "print(f'ex2 결과 : {ex2}')\n",
    "\n",
    "# 방법3\n",
    "ex3 = [a.upper() for a in x if a == 'apple' or a == 'kiwi']\n",
    "\n",
    "print(f'ex3 결과 : {ex3}')"
   ]
  },
  {
   "cell_type": "code",
   "execution_count": null,
   "id": "f283c16a-3d07-400d-a715-1a3af513c482",
   "metadata": {},
   "outputs": [],
   "source": []
  },
  {
   "cell_type": "markdown",
   "id": "e4c668b2-1026-45d4-a1f6-25681f834ac8",
   "metadata": {},
   "source": [
    "#### Range Tech ###"
   ]
  },
  {
   "cell_type": "code",
   "execution_count": 59,
   "id": "6a888d4a-0bda-482e-a8b4-8cc70b52025f",
   "metadata": {},
   "outputs": [
    {
     "name": "stdout",
     "output_type": "stream",
     "text": [
      " ex1 = [30, 28, 26, 24, 22, 20, 18, 16, 14, 12, 10, 8, 6, 4, 2, 0, -2, -4, -6, -8, -10]\n",
      " ex2 = [30, 28, 26, 24, 22, 20, 18, 16, 14, 12, 10, 8, 6, 4, 2, 0, -2, -4, -6, -8, -10]\n"
     ]
    }
   ],
   "source": [
    "#  Return the results described as -2 from 30 to -10 as follows:\n",
    "# 출력 결과 : [30, 28, 26, 24, 22, 20, 18, 16, 14, 12, 10, 8, 6, 4, 2, 0, -2, -4, -6, -8, -10]\n",
    "\n",
    "ex1=[]\n",
    "\n",
    "for i in range(30, -12, -2):\n",
    "    ex1.append(i)\n",
    "    \n",
    "print(f' ex1 = {ex1}')\n",
    "\n",
    "ex2=list(range(30,-12,-2))\n",
    "print(f' ex2 = {ex2}') "
   ]
  },
  {
   "cell_type": "markdown",
   "id": "ed89f881-ba56-4b46-87dc-e8511dbf743b",
   "metadata": {},
   "source": [
    "### More range Tech ###"
   ]
  },
  {
   "cell_type": "code",
   "execution_count": 78,
   "id": "a5aae815-1749-4731-96cc-693a86741a68",
   "metadata": {},
   "outputs": [
    {
     "name": "stdout",
     "output_type": "stream",
     "text": [
      " ex1 = [1, 4, 3, 8, 5, 12, 7, 16, 9, 20, 11, 24, 13, 28, 15, 32, 17, 36, 19, 40]\n"
     ]
    }
   ],
   "source": [
    "ex1 = []\n",
    "\n",
    "for i in range(1,21):\n",
    "    if i%2 != 0:\n",
    "        ex1.append(i)\n",
    "    else:\n",
    "        ex1.append(i*2)\n",
    "    \n",
    "\n",
    "print(f' ex1 = {ex1}')"
   ]
  },
  {
   "cell_type": "code",
   "execution_count": 101,
   "id": "8d6f4168-07bb-413c-a8ef-ef7c7165dde6",
   "metadata": {},
   "outputs": [
    {
     "name": "stdout",
     "output_type": "stream",
     "text": [
      " ex1 : ['10', '20', '30', '40', '50', '60', '70', '80', '90', '100', '110', '120', '130', '140', '150']\n",
      "ex2 결과 : ['10', '20', '30', '40', '50', '60', '70', '80', '90', '100', '110', '120', '130', '140', '150']\n",
      "ex3 결과 : ['10', '20', '30', '40', '50', '60', '70', '80', '90', '100', '110', '120', '130', '140', '150']\n"
     ]
    }
   ],
   "source": [
    "#Try to multiply by 10 from 1 to 15 as follows. Use range lamdba and map.\n",
    "\n",
    "ex1 = []\n",
    "ex2 = []\n",
    "ex3 = []\n",
    "\n",
    "\n",
    "for i in range(1,16):\n",
    "    ex1.append(str(i*10))\n",
    "\n",
    "print(f' ex1 : {ex1}')\n",
    "\n",
    "\n",
    "print(f'ex2 결과 : {list(map(lambda x : str(x * 10), range(1, 16)))}')\n",
    "print(f'ex3 결과 : {[str(x * 10) for x in range(1, 16)]}')"
   ]
  },
  {
   "cell_type": "code",
   "execution_count": 121,
   "id": "f0e403c4-f912-4d8b-aed7-567b8d33536f",
   "metadata": {},
   "outputs": [
    {
     "name": "stdout",
     "output_type": "stream",
     "text": [
      "['a', 1, 'b', 2, 'a', 3, 'b', 4, 5, 'b']\n",
      " ex1 = ['a', 2, 3, 1, 4, 'b', 5]\n",
      " ex2 = ['a', 1, 'b', 2, 3, 4, 5]\n",
      " ex3 = ['a', 1, 'b', 2, 3, 4, 5]\n"
     ]
    }
   ],
   "source": [
    "x = [\"a\", 1, \"b\", 2, \"a\", 3, \"b\", 4, 5, \"b\"]\n",
    "\n",
    "print(x)\n",
    "\n",
    "ex1 = list(set(x))\n",
    "print(f' ex1 = {ex1}')\n",
    "\n",
    "#순서 유지\n",
    "\n",
    "ex2 = []\n",
    "\n",
    "for i in x:\n",
    "    if i not in ex2:\n",
    "        ex2.append(i)\n",
    "\n",
    "print(f' ex2 = {ex2}')\n",
    "\n",
    "ex3= list(dict.fromkeys(x))\n",
    "\n",
    "print(f' ex3 = {ex3}')\n"
   ]
  },
  {
   "cell_type": "code",
   "execution_count": null,
   "id": "ab502dde-5f6f-4a61-9aba-fa86b84a5d6e",
   "metadata": {},
   "outputs": [],
   "source": []
  },
  {
   "cell_type": "code",
   "execution_count": null,
   "id": "d87e7100-6d5f-408b-8327-b65ded392aea",
   "metadata": {},
   "outputs": [],
   "source": []
  },
  {
   "cell_type": "code",
   "execution_count": null,
   "id": "a6ce9379-fb93-47c9-b3c2-9c8bb6626490",
   "metadata": {},
   "outputs": [],
   "source": []
  },
  {
   "cell_type": "code",
   "execution_count": null,
   "id": "4fb68c77-8afc-4aa4-8518-6381b2f0f3bc",
   "metadata": {},
   "outputs": [],
   "source": []
  },
  {
   "cell_type": "code",
   "execution_count": null,
   "id": "cc5167ab-4afc-464b-ad52-bbff70ede526",
   "metadata": {},
   "outputs": [],
   "source": []
  },
  {
   "cell_type": "code",
   "execution_count": null,
   "id": "896d653a-1dbc-4526-840d-2a49064b1bdf",
   "metadata": {},
   "outputs": [],
   "source": []
  },
  {
   "cell_type": "code",
   "execution_count": null,
   "id": "80470c54-9a40-4204-a9d6-fc12e851af08",
   "metadata": {},
   "outputs": [],
   "source": []
  },
  {
   "cell_type": "code",
   "execution_count": null,
   "id": "e20ce82d-e91a-44b2-a865-24caf153635f",
   "metadata": {},
   "outputs": [],
   "source": []
  }
 ],
 "metadata": {
  "kernelspec": {
   "display_name": "Python [conda env:base] *",
   "language": "python",
   "name": "conda-base-py"
  },
  "language_info": {
   "codemirror_mode": {
    "name": "ipython",
    "version": 3
   },
   "file_extension": ".py",
   "mimetype": "text/x-python",
   "name": "python",
   "nbconvert_exporter": "python",
   "pygments_lexer": "ipython3",
   "version": "3.12.7"
  }
 },
 "nbformat": 4,
 "nbformat_minor": 5
}
