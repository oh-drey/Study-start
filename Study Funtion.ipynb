{
 "cells": [
  {
   "cell_type": "markdown",
   "id": "60df6bc6-2ecb-49b9-8f46-4d908cf79b77",
   "metadata": {},
   "source": [
    "### Study Funtion"
   ]
  },
  {
   "cell_type": "code",
   "execution_count": 6,
   "id": "f874eaf2-1675-4816-ad5d-5aa79531d496",
   "metadata": {},
   "outputs": [
    {
     "name": "stdout",
     "output_type": "stream",
     "text": [
      "ex1 결과 : 55\n",
      "ex2 결과 : 55\n",
      "ex3 결과 : 55\n"
     ]
    }
   ],
   "source": [
    "def sigma_sum1(n):    \n",
    "    tot = 0  \n",
    "    for i in range(1, n + 1): \n",
    "        tot = tot + i\n",
    "    return tot\n",
    "    \n",
    "\n",
    "print(f'ex1 결과 : {sigma_sum1(10)}')\n",
    "\n",
    "\n",
    "# 방법2\n",
    "def sigma_sum2(n):\n",
    "    return n * (n + 1) // 2\n",
    "\n",
    "print(f'ex2 결과 : {sigma_sum2(10)}')\n",
    "\n",
    "\n",
    "# 방법3\n",
    "def sigma_sum3(n):\n",
    "    return sum(range(n + 1))\n",
    "\n",
    "print(f'ex3 결과 : {sigma_sum3(10)}')\n",
    "\n",
    "\n",
    "\n",
    "\n",
    "\n",
    "def sum1(n):\n",
    "    total = 0:\n",
    "    for i in range(1, n+1):\n",
    "        total+=1:\n",
    "    return tot"
   ]
  },
  {
   "cell_type": "code",
   "execution_count": 8,
   "id": "b2fc1794-bc7f-41cd-82dc-dcad48ed974b",
   "metadata": {},
   "outputs": [
    {
     "name": "stdout",
     "output_type": "stream",
     "text": [
      "ex1 결과 : Hi! Kim, Good morning!\n",
      "ex1 결과 : Hi! Park, How do you do?\n",
      "\n",
      "ex2 결과 : 40\n",
      "ex2 결과 : 155\n",
      "\n",
      "ex3 결과 : 3\n",
      "ex3 결과 : 21\n",
      "ex3 결과 : 5050\n"
     ]
    }
   ],
   "source": [
    "# 17.Function Arguments\n",
    "\n",
    "# 예제1\n",
    "def greet(name, msg=\"Good morning!\", ):\n",
    "    return \"Hi! \" + name + ', ' + msg\n",
    "\n",
    "# 실행\n",
    "print(f'ex1 결과 : {greet(\"Kim\")}')\n",
    "print(f'ex1 결과 : {greet(\"Park\", \"How do you do?\")}')\n",
    "\n",
    "print()\n",
    "\n",
    "\n",
    "# 예제2\n",
    "def add1(a,b=10,c=15):\n",
    "    return a + b + c\n",
    "\n",
    "# 실행\n",
    "print(f'ex2 결과 : {add1(15)}')\n",
    "print(f'ex2 결과 : {add1(b=100,c=25,a=30)}')\n",
    "\n",
    "print()\n",
    "\n",
    "\n",
    "# 예제3\n",
    "def add2(*d):\n",
    "    tot = 0\n",
    "    for i in d:\n",
    "         tot += i\n",
    "    return tot\n",
    "\n",
    "\n",
    "print(f'ex3 결과 : {add2(1, 2)}')\n",
    "print(f'ex3 결과 : {add2(1, 2, 3, 4, 5, 6)}')\n",
    "print(f'ex3 결과 : {add2(*(i for i in range(1, 101)))}')\n",
    "\n",
    "# print(*(i for i in range(1, 101))) # 참고"
   ]
  },
  {
   "cell_type": "code",
   "execution_count": null,
   "id": "a5cfda4d-f98e-468f-b7e2-873702043cbe",
   "metadata": {},
   "outputs": [],
   "source": []
  },
  {
   "cell_type": "code",
   "execution_count": null,
   "id": "73362a34-9878-4564-a7e0-900a14ecc5ef",
   "metadata": {},
   "outputs": [],
   "source": []
  },
  {
   "cell_type": "code",
   "execution_count": null,
   "id": "25341897-65b3-459a-a554-795c9c0d3d82",
   "metadata": {},
   "outputs": [],
   "source": []
  },
  {
   "cell_type": "code",
   "execution_count": null,
   "id": "7bc247fe-ccac-4a05-970a-6a43eaa864a0",
   "metadata": {},
   "outputs": [],
   "source": []
  }
 ],
 "metadata": {
  "kernelspec": {
   "display_name": "Python [conda env:base] *",
   "language": "python",
   "name": "conda-base-py"
  },
  "language_info": {
   "codemirror_mode": {
    "name": "ipython",
    "version": 3
   },
   "file_extension": ".py",
   "mimetype": "text/x-python",
   "name": "python",
   "nbconvert_exporter": "python",
   "pygments_lexer": "ipython3",
   "version": "3.12.7"
  }
 },
 "nbformat": 4,
 "nbformat_minor": 5
}
