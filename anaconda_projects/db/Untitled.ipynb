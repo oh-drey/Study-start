{
 "cells": [
  {
   "cell_type": "code",
   "execution_count": 1,
   "id": "5f6d13aa-bb68-4026-8c31-2d9e1e2e10a6",
   "metadata": {},
   "outputs": [
    {
     "name": "stdout",
     "output_type": "stream",
     "text": [
      "Hellow word\n"
     ]
    }
   ],
   "source": [
    "print(\"Hellow word\")"
   ]
  },
  {
   "cell_type": "code",
   "execution_count": null,
   "id": "8dd0a366-a954-4265-a0fa-e42446bc8aa6",
   "metadata": {},
   "outputs": [],
   "source": []
  }
 ],
 "metadata": {
  "kernelspec": {
   "display_name": "Python [conda env:base] *",
   "language": "python",
   "name": "conda-base-py"
  },
  "language_info": {
   "codemirror_mode": {
    "name": "ipython",
    "version": 3
   },
   "file_extension": ".py",
   "mimetype": "text/x-python",
   "name": "python",
   "nbconvert_exporter": "python",
   "pygments_lexer": "ipython3",
   "version": "3.12.7"
  }
 },
 "nbformat": 4,
 "nbformat_minor": 5
}
