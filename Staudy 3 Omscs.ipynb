{
 "cells": [
  {
   "cell_type": "markdown",
   "id": "786f732b-5ea5-4121-8978-fa6ac30b674c",
   "metadata": {},
   "source": [
    "### Study OMSCS "
   ]
  },
  {
   "cell_type": "code",
   "execution_count": 21,
   "id": "4dafdd59-0435-4960-a4f6-8cf7fb68d630",
   "metadata": {},
   "outputs": [
    {
     "name": "stdout",
     "output_type": "stream",
     "text": [
      " ex1 = 2327\n",
      "2327\n",
      "2327\n"
     ]
    }
   ],
   "source": [
    "d = {'a': 17,'b': 114,'c': 247, 'd': 362, 'e': 220, 'f': 728, 'g': -283, 'h': 922}\n",
    "# Try to sum all items in d\n",
    "\n",
    "ex1 = sum(d.values())\n",
    "print(f' ex1 = {ex1}')\n",
    "\n",
    "total = 0\n",
    "\n",
    "for i in d.values():\n",
    "    total += i\n",
    "\n",
    "print(total)\n",
    "\n",
    "total2 = sum(map(lambda x:x, d.values()))\n",
    "\n",
    "print(total2)"
   ]
  },
  {
   "cell_type": "code",
   "execution_count": 27,
   "id": "a37dd528-06d1-4487-921e-059de91e1f18",
   "metadata": {},
   "outputs": [
    {
     "name": "stdout",
     "output_type": "stream",
     "text": [
      " d = {'a': 'apple', 'b': 'grape', 'c': 'banana', 'd': 'kiwi'}\n",
      " e = {'a': 'apple', 'b': 'grape', 'c': 'banana', 'd': 'kiwi'}\n"
     ]
    }
   ],
   "source": [
    "d = {'a': 'apple', 'b': 'grape'}\n",
    "d['c'] = 'banana'\n",
    "d['d'] = 'kiwi'\n",
    "\n",
    "\n",
    "e = {'a': 'apple', 'b': 'grape'}\n",
    "\n",
    "e.update({'c' : 'banana' , 'd': 'kiwi'}) \n",
    "print(f' d = {d}')\n",
    "print(f' e = {e}')\n",
    "\n"
   ]
  },
  {
   "cell_type": "code",
   "execution_count": null,
   "id": "28fc9399-a376-4de0-b925-ef937b72dda9",
   "metadata": {},
   "outputs": [],
   "source": []
  },
  {
   "cell_type": "code",
   "execution_count": null,
   "id": "bb18b4e8-490a-4016-863d-3edf353936d5",
   "metadata": {},
   "outputs": [],
   "source": []
  },
  {
   "cell_type": "code",
   "execution_count": null,
   "id": "af0017eb-74e8-4d65-8dfd-1ca43c8c6d78",
   "metadata": {},
   "outputs": [],
   "source": []
  },
  {
   "cell_type": "code",
   "execution_count": null,
   "id": "8c322401-1222-4c92-b5c6-ff4a45275c01",
   "metadata": {},
   "outputs": [],
   "source": []
  }
 ],
 "metadata": {
  "kernelspec": {
   "display_name": "Python [conda env:base] *",
   "language": "python",
   "name": "conda-base-py"
  },
  "language_info": {
   "codemirror_mode": {
    "name": "ipython",
    "version": 3
   },
   "file_extension": ".py",
   "mimetype": "text/x-python",
   "name": "python",
   "nbconvert_exporter": "python",
   "pygments_lexer": "ipython3",
   "version": "3.12.7"
  }
 },
 "nbformat": 4,
 "nbformat_minor": 5
}
